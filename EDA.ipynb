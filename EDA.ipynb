{
 "cells": [
  {
   "cell_type": "code",
   "execution_count": 1,
   "metadata": {
    "collapsed": true
   },
   "outputs": [],
   "source": [
    "import pandas as pd\n",
    "import pandas.io.sql as sqlio\n",
    "import psycopg2\n",
    "import numpy as np\n",
    "import matplotlib\n",
    "import matplotlib.pyplot as plt\n",
    "#import seaborn as sns\n",
    "%matplotlib inline "
   ]
  },
  {
   "cell_type": "code",
   "execution_count": 2,
   "metadata": {
    "collapsed": true
   },
   "outputs": [],
   "source": [
    "my_host  = \"localhost\"\n",
    "my_port = \"5432\"\n",
    "my_name = \"postgres\"\n",
    "my_pwd = \"54zhusiqi\"\n",
    "my_db = \"postgres\"\n"
   ]
  },
  {
   "cell_type": "code",
   "execution_count": 3,
   "metadata": {
    "collapsed": true
   },
   "outputs": [],
   "source": [
    "schema = 'kaggle_hcdr'\n",
    "#table_list = ['application_test', 'application_train', 'bureau', 'bureau_balance', 'credit_card_balance', 'home_credit_columns_description', 'installments_payments', 'pos_cash_balance', 'previous_application', 'sample_submission']\n",
    "#[application_test, application_train, bureau, bureau_balance, credit_card_balance, home_credit_columns_description, installments_payments, pos_cash_balance, previous_application, sample_submission] = ['']*len(table_list)\n",
    "\n",
    "table_list = ['application_train']\n",
    "[application_train] = ['']*len(table_list)\n"
   ]
  },
  {
   "cell_type": "markdown",
   "metadata": {},
   "source": [
    "# Data extraction from database"
   ]
  },
  {
   "cell_type": "code",
   "execution_count": 4,
   "metadata": {
    "collapsed": true
   },
   "outputs": [],
   "source": [
    "def get_data(my_host, my_port, my_db, my_name, my_pwd, schema, table_list):\n",
    "    conn = psycopg2.connect(\"host='{}' port={} dbname='{}' user={} password={}\".format(my_host, my_port, my_db, my_name, my_pwd))\n",
    "\n",
    "    data_all = []\n",
    "    for t in table_list:\n",
    "        print('Processing: {}'.format(t))\n",
    "        sql = \"select * from {}.{};\".format(schema, t)\n",
    "        data_all.append(sqlio.read_sql_query(sql, conn))\n",
    "    conn = None\n",
    "    return data_all"
   ]
  },
  {
   "cell_type": "code",
   "execution_count": 5,
   "metadata": {},
   "outputs": [
    {
     "name": "stdout",
     "output_type": "stream",
     "text": [
      "Processing: application_train\n"
     ]
    }
   ],
   "source": [
    "[application_train] = get_data(my_host, my_port, my_db, my_name, my_pwd, schema, table_list)"
   ]
  },
  {
   "cell_type": "markdown",
   "metadata": {},
   "source": [
    "# Check the data"
   ]
  },
  {
   "cell_type": "code",
   "execution_count": 6,
   "metadata": {},
   "outputs": [
    {
     "data": {
      "text/html": [
       "<div>\n",
       "<style>\n",
       "    .dataframe thead tr:only-child th {\n",
       "        text-align: right;\n",
       "    }\n",
       "\n",
       "    .dataframe thead th {\n",
       "        text-align: left;\n",
       "    }\n",
       "\n",
       "    .dataframe tbody tr th {\n",
       "        vertical-align: top;\n",
       "    }\n",
       "</style>\n",
       "<table border=\"1\" class=\"dataframe\">\n",
       "  <thead>\n",
       "    <tr style=\"text-align: right;\">\n",
       "      <th></th>\n",
       "      <th>sk_id_curr</th>\n",
       "      <th>target</th>\n",
       "      <th>name_contract_type</th>\n",
       "      <th>code_gender</th>\n",
       "      <th>flag_own_car</th>\n",
       "      <th>flag_own_realty</th>\n",
       "      <th>cnt_children</th>\n",
       "      <th>amt_income_total</th>\n",
       "      <th>amt_credit</th>\n",
       "      <th>amt_annuity</th>\n",
       "      <th>...</th>\n",
       "      <th>flag_document_21</th>\n",
       "      <th>amt_req_credit_bureau_hour</th>\n",
       "      <th>amt_req_credit_bureau_day</th>\n",
       "      <th>amt_req_credit_bureau_week</th>\n",
       "      <th>amt_req_credit_bureau_mon</th>\n",
       "      <th>amt_req_credit_bureau_qrt</th>\n",
       "      <th>amt_req_credit_bureau_year</th>\n",
       "      <th>sk_id_bureau</th>\n",
       "      <th>months_balance</th>\n",
       "      <th>status</th>\n",
       "    </tr>\n",
       "  </thead>\n",
       "  <tbody>\n",
       "    <tr>\n",
       "      <th>0</th>\n",
       "      <td>100002.0</td>\n",
       "      <td>1.0</td>\n",
       "      <td>Cash loans</td>\n",
       "      <td>M</td>\n",
       "      <td>N</td>\n",
       "      <td>Y</td>\n",
       "      <td>0.0</td>\n",
       "      <td>202500.0</td>\n",
       "      <td>406597.5</td>\n",
       "      <td>24700.5</td>\n",
       "      <td>...</td>\n",
       "      <td>0.0</td>\n",
       "      <td>0.0</td>\n",
       "      <td>0.0</td>\n",
       "      <td>0.0</td>\n",
       "      <td>0.0</td>\n",
       "      <td>0.0</td>\n",
       "      <td>1.0</td>\n",
       "      <td>None</td>\n",
       "      <td>None</td>\n",
       "      <td>None</td>\n",
       "    </tr>\n",
       "    <tr>\n",
       "      <th>1</th>\n",
       "      <td>100003.0</td>\n",
       "      <td>0.0</td>\n",
       "      <td>Cash loans</td>\n",
       "      <td>F</td>\n",
       "      <td>N</td>\n",
       "      <td>N</td>\n",
       "      <td>0.0</td>\n",
       "      <td>270000.0</td>\n",
       "      <td>1293502.5</td>\n",
       "      <td>35698.5</td>\n",
       "      <td>...</td>\n",
       "      <td>0.0</td>\n",
       "      <td>0.0</td>\n",
       "      <td>0.0</td>\n",
       "      <td>0.0</td>\n",
       "      <td>0.0</td>\n",
       "      <td>0.0</td>\n",
       "      <td>0.0</td>\n",
       "      <td>None</td>\n",
       "      <td>None</td>\n",
       "      <td>None</td>\n",
       "    </tr>\n",
       "    <tr>\n",
       "      <th>2</th>\n",
       "      <td>100004.0</td>\n",
       "      <td>0.0</td>\n",
       "      <td>Revolving loans</td>\n",
       "      <td>M</td>\n",
       "      <td>Y</td>\n",
       "      <td>Y</td>\n",
       "      <td>0.0</td>\n",
       "      <td>67500.0</td>\n",
       "      <td>135000.0</td>\n",
       "      <td>6750.0</td>\n",
       "      <td>...</td>\n",
       "      <td>0.0</td>\n",
       "      <td>0.0</td>\n",
       "      <td>0.0</td>\n",
       "      <td>0.0</td>\n",
       "      <td>0.0</td>\n",
       "      <td>0.0</td>\n",
       "      <td>0.0</td>\n",
       "      <td>None</td>\n",
       "      <td>None</td>\n",
       "      <td>None</td>\n",
       "    </tr>\n",
       "    <tr>\n",
       "      <th>3</th>\n",
       "      <td>100006.0</td>\n",
       "      <td>0.0</td>\n",
       "      <td>Cash loans</td>\n",
       "      <td>F</td>\n",
       "      <td>N</td>\n",
       "      <td>Y</td>\n",
       "      <td>0.0</td>\n",
       "      <td>135000.0</td>\n",
       "      <td>312682.5</td>\n",
       "      <td>29686.5</td>\n",
       "      <td>...</td>\n",
       "      <td>0.0</td>\n",
       "      <td>None</td>\n",
       "      <td>None</td>\n",
       "      <td>None</td>\n",
       "      <td>None</td>\n",
       "      <td>None</td>\n",
       "      <td>None</td>\n",
       "      <td>None</td>\n",
       "      <td>None</td>\n",
       "      <td>None</td>\n",
       "    </tr>\n",
       "    <tr>\n",
       "      <th>4</th>\n",
       "      <td>100007.0</td>\n",
       "      <td>0.0</td>\n",
       "      <td>Cash loans</td>\n",
       "      <td>M</td>\n",
       "      <td>N</td>\n",
       "      <td>Y</td>\n",
       "      <td>0.0</td>\n",
       "      <td>121500.0</td>\n",
       "      <td>513000.0</td>\n",
       "      <td>21865.5</td>\n",
       "      <td>...</td>\n",
       "      <td>0.0</td>\n",
       "      <td>0.0</td>\n",
       "      <td>0.0</td>\n",
       "      <td>0.0</td>\n",
       "      <td>0.0</td>\n",
       "      <td>0.0</td>\n",
       "      <td>0.0</td>\n",
       "      <td>None</td>\n",
       "      <td>None</td>\n",
       "      <td>None</td>\n",
       "    </tr>\n",
       "  </tbody>\n",
       "</table>\n",
       "<p>5 rows × 125 columns</p>\n",
       "</div>"
      ],
      "text/plain": [
       "   sk_id_curr  target name_contract_type code_gender flag_own_car  \\\n",
       "0    100002.0     1.0         Cash loans           M            N   \n",
       "1    100003.0     0.0         Cash loans           F            N   \n",
       "2    100004.0     0.0    Revolving loans           M            Y   \n",
       "3    100006.0     0.0         Cash loans           F            N   \n",
       "4    100007.0     0.0         Cash loans           M            N   \n",
       "\n",
       "  flag_own_realty  cnt_children  amt_income_total  amt_credit  amt_annuity  \\\n",
       "0               Y           0.0          202500.0    406597.5      24700.5   \n",
       "1               N           0.0          270000.0   1293502.5      35698.5   \n",
       "2               Y           0.0           67500.0    135000.0       6750.0   \n",
       "3               Y           0.0          135000.0    312682.5      29686.5   \n",
       "4               Y           0.0          121500.0    513000.0      21865.5   \n",
       "\n",
       "    ...    flag_document_21 amt_req_credit_bureau_hour  \\\n",
       "0   ...                 0.0                        0.0   \n",
       "1   ...                 0.0                        0.0   \n",
       "2   ...                 0.0                        0.0   \n",
       "3   ...                 0.0                       None   \n",
       "4   ...                 0.0                        0.0   \n",
       "\n",
       "  amt_req_credit_bureau_day amt_req_credit_bureau_week  \\\n",
       "0                       0.0                        0.0   \n",
       "1                       0.0                        0.0   \n",
       "2                       0.0                        0.0   \n",
       "3                      None                       None   \n",
       "4                       0.0                        0.0   \n",
       "\n",
       "  amt_req_credit_bureau_mon amt_req_credit_bureau_qrt  \\\n",
       "0                       0.0                       0.0   \n",
       "1                       0.0                       0.0   \n",
       "2                       0.0                       0.0   \n",
       "3                      None                      None   \n",
       "4                       0.0                       0.0   \n",
       "\n",
       "   amt_req_credit_bureau_year  sk_id_bureau  months_balance  status  \n",
       "0                         1.0          None            None    None  \n",
       "1                         0.0          None            None    None  \n",
       "2                         0.0          None            None    None  \n",
       "3                        None          None            None    None  \n",
       "4                         0.0          None            None    None  \n",
       "\n",
       "[5 rows x 125 columns]"
      ]
     },
     "execution_count": 6,
     "metadata": {},
     "output_type": "execute_result"
    }
   ],
   "source": [
    "application_train.head()"
   ]
  },
  {
   "cell_type": "code",
   "execution_count": 7,
   "metadata": {},
   "outputs": [
    {
     "data": {
      "text/plain": [
       "(307511, 125)"
      ]
     },
     "execution_count": 7,
     "metadata": {},
     "output_type": "execute_result"
    }
   ],
   "source": [
    "application_train.shape"
   ]
  },
  {
   "cell_type": "code",
   "execution_count": 8,
   "metadata": {},
   "outputs": [
    {
     "data": {
      "text/plain": [
       "array(['sk_id_curr', 'target', 'name_contract_type', 'code_gender',\n",
       "       'flag_own_car', 'flag_own_realty', 'cnt_children',\n",
       "       'amt_income_total', 'amt_credit', 'amt_annuity', 'amt_goods_price',\n",
       "       'name_type_suite', 'name_income_type', 'name_education_type',\n",
       "       'name_family_status', 'name_housing_type',\n",
       "       'region_population_relative', 'days_birth', 'days_employed',\n",
       "       'days_registration', 'days_id_publish', 'own_car_age',\n",
       "       'flag_mobil', 'flag_emp_phone', 'flag_work_phone',\n",
       "       'flag_cont_mobile', 'flag_phone', 'flag_email', 'occupation_type',\n",
       "       'cnt_fam_members', 'region_rating_client',\n",
       "       'region_rating_client_w_city', 'weekday_appr_process_start',\n",
       "       'hour_appr_process_start', 'reg_region_not_live_region',\n",
       "       'reg_region_not_work_region', 'live_region_not_work_region',\n",
       "       'reg_city_not_live_city', 'reg_city_not_work_city',\n",
       "       'live_city_not_work_city', 'organization_type', 'ext_source_1',\n",
       "       'ext_source_2', 'ext_source_3', 'apartments_avg',\n",
       "       'basementarea_avg', 'years_beginexpluatation_avg',\n",
       "       'years_build_avg', 'commonarea_avg', 'elevators_avg',\n",
       "       'entrances_avg', 'floorsmax_avg', 'floorsmin_avg', 'landarea_avg',\n",
       "       'livingapartments_avg', 'livingarea_avg',\n",
       "       'nonlivingapartments_avg', 'nonlivingarea_avg', 'apartments_mode',\n",
       "       'basementarea_mode', 'years_beginexpluatation_mode',\n",
       "       'years_build_mode', 'commonarea_mode', 'elevators_mode',\n",
       "       'entrances_mode', 'floorsmax_mode', 'floorsmin_mode',\n",
       "       'landarea_mode', 'livingapartments_mode', 'livingarea_mode',\n",
       "       'nonlivingapartments_mode', 'nonlivingarea_mode',\n",
       "       'apartments_medi', 'basementarea_medi',\n",
       "       'years_beginexpluatation_medi', 'years_build_medi',\n",
       "       'commonarea_medi', 'elevators_medi', 'entrances_medi',\n",
       "       'floorsmax_medi', 'floorsmin_medi', 'landarea_medi',\n",
       "       'livingapartments_medi', 'livingarea_medi',\n",
       "       'nonlivingapartments_medi', 'nonlivingarea_medi',\n",
       "       'fondkapremont_mode', 'housetype_mode', 'totalarea_mode',\n",
       "       'wallsmaterial_mode', 'emergencystate_mode',\n",
       "       'obs_30_cnt_social_circle', 'def_30_cnt_social_circle',\n",
       "       'obs_60_cnt_social_circle', 'def_60_cnt_social_circle',\n",
       "       'days_last_phone_change', 'flag_document_2', 'flag_document_3',\n",
       "       'flag_document_4', 'flag_document_5', 'flag_document_6',\n",
       "       'flag_document_7', 'flag_document_8', 'flag_document_9',\n",
       "       'flag_document_10', 'flag_document_11', 'flag_document_12',\n",
       "       'flag_document_13', 'flag_document_14', 'flag_document_15',\n",
       "       'flag_document_16', 'flag_document_17', 'flag_document_18',\n",
       "       'flag_document_19', 'flag_document_20', 'flag_document_21',\n",
       "       'amt_req_credit_bureau_hour', 'amt_req_credit_bureau_day',\n",
       "       'amt_req_credit_bureau_week', 'amt_req_credit_bureau_mon',\n",
       "       'amt_req_credit_bureau_qrt', 'amt_req_credit_bureau_year',\n",
       "       'sk_id_bureau', 'months_balance', 'status'], dtype=object)"
      ]
     },
     "execution_count": 8,
     "metadata": {},
     "output_type": "execute_result"
    }
   ],
   "source": [
    "application_train.columns.values"
   ]
  },
  {
   "cell_type": "markdown",
   "metadata": {},
   "source": [
    "# Check missing values"
   ]
  },
  {
   "cell_type": "code",
   "execution_count": 9,
   "metadata": {
    "collapsed": true
   },
   "outputs": [],
   "source": [
    "def check_missing_data(data, SORT = True):\n",
    "    N_missing = data.isnull().sum()\n",
    "    percent = N_missing / len(data) * 100\n",
    "    if SORT == 'False':\n",
    "        return pd.concat([N_missing, percent], axis=1, keys=['N_missing', 'Percent %'])\n",
    "    else:\n",
    "        return pd.concat([N_missing, percent], axis=1, keys=['N_missing', 'Percent %']).sort_values(by='N_missing', ascending=False)"
   ]
  },
  {
   "cell_type": "code",
   "execution_count": 10,
   "metadata": {
    "collapsed": true
   },
   "outputs": [],
   "source": [
    "application_train_missing = check_missing_data(application_train)"
   ]
  },
  {
   "cell_type": "markdown",
   "metadata": {},
   "source": [
    "### Check top 10 missing data"
   ]
  },
  {
   "cell_type": "code",
   "execution_count": 11,
   "metadata": {},
   "outputs": [
    {
     "data": {
      "text/html": [
       "<div>\n",
       "<style>\n",
       "    .dataframe thead tr:only-child th {\n",
       "        text-align: right;\n",
       "    }\n",
       "\n",
       "    .dataframe thead th {\n",
       "        text-align: left;\n",
       "    }\n",
       "\n",
       "    .dataframe tbody tr th {\n",
       "        vertical-align: top;\n",
       "    }\n",
       "</style>\n",
       "<table border=\"1\" class=\"dataframe\">\n",
       "  <thead>\n",
       "    <tr style=\"text-align: right;\">\n",
       "      <th></th>\n",
       "      <th>N_missing</th>\n",
       "      <th>Percent %</th>\n",
       "    </tr>\n",
       "  </thead>\n",
       "  <tbody>\n",
       "    <tr>\n",
       "      <th>status</th>\n",
       "      <td>307511</td>\n",
       "      <td>100.000000</td>\n",
       "    </tr>\n",
       "    <tr>\n",
       "      <th>months_balance</th>\n",
       "      <td>307511</td>\n",
       "      <td>100.000000</td>\n",
       "    </tr>\n",
       "    <tr>\n",
       "      <th>sk_id_bureau</th>\n",
       "      <td>307511</td>\n",
       "      <td>100.000000</td>\n",
       "    </tr>\n",
       "    <tr>\n",
       "      <th>commonarea_avg</th>\n",
       "      <td>214865</td>\n",
       "      <td>69.872297</td>\n",
       "    </tr>\n",
       "    <tr>\n",
       "      <th>commonarea_medi</th>\n",
       "      <td>214865</td>\n",
       "      <td>69.872297</td>\n",
       "    </tr>\n",
       "    <tr>\n",
       "      <th>commonarea_mode</th>\n",
       "      <td>214865</td>\n",
       "      <td>69.872297</td>\n",
       "    </tr>\n",
       "    <tr>\n",
       "      <th>nonlivingapartments_avg</th>\n",
       "      <td>213514</td>\n",
       "      <td>69.432963</td>\n",
       "    </tr>\n",
       "    <tr>\n",
       "      <th>nonlivingapartments_medi</th>\n",
       "      <td>213514</td>\n",
       "      <td>69.432963</td>\n",
       "    </tr>\n",
       "    <tr>\n",
       "      <th>nonlivingapartments_mode</th>\n",
       "      <td>213514</td>\n",
       "      <td>69.432963</td>\n",
       "    </tr>\n",
       "    <tr>\n",
       "      <th>fondkapremont_mode</th>\n",
       "      <td>210295</td>\n",
       "      <td>68.386172</td>\n",
       "    </tr>\n",
       "  </tbody>\n",
       "</table>\n",
       "</div>"
      ],
      "text/plain": [
       "                          N_missing   Percent %\n",
       "status                       307511  100.000000\n",
       "months_balance               307511  100.000000\n",
       "sk_id_bureau                 307511  100.000000\n",
       "commonarea_avg               214865   69.872297\n",
       "commonarea_medi              214865   69.872297\n",
       "commonarea_mode              214865   69.872297\n",
       "nonlivingapartments_avg      213514   69.432963\n",
       "nonlivingapartments_medi     213514   69.432963\n",
       "nonlivingapartments_mode     213514   69.432963\n",
       "fondkapremont_mode           210295   68.386172"
      ]
     },
     "execution_count": 11,
     "metadata": {},
     "output_type": "execute_result"
    }
   ],
   "source": [
    "application_train_missing[:10]"
   ]
  },
  {
   "cell_type": "markdown",
   "metadata": {},
   "source": [
    "### 100% missing for 'status', 'months_balance' and 'sk_id_bureau', we may ignore them"
   ]
  },
  {
   "cell_type": "code",
   "execution_count": 12,
   "metadata": {},
   "outputs": [
    {
     "data": {
      "text/html": [
       "<div>\n",
       "<style>\n",
       "    .dataframe thead tr:only-child th {\n",
       "        text-align: right;\n",
       "    }\n",
       "\n",
       "    .dataframe thead th {\n",
       "        text-align: left;\n",
       "    }\n",
       "\n",
       "    .dataframe tbody tr th {\n",
       "        vertical-align: top;\n",
       "    }\n",
       "</style>\n",
       "<table border=\"1\" class=\"dataframe\">\n",
       "  <thead>\n",
       "    <tr style=\"text-align: right;\">\n",
       "      <th></th>\n",
       "      <th>N_missing</th>\n",
       "      <th>Percent %</th>\n",
       "    </tr>\n",
       "  </thead>\n",
       "  <tbody>\n",
       "    <tr>\n",
       "      <th>commonarea_avg</th>\n",
       "      <td>214865</td>\n",
       "      <td>69.872297</td>\n",
       "    </tr>\n",
       "    <tr>\n",
       "      <th>commonarea_medi</th>\n",
       "      <td>214865</td>\n",
       "      <td>69.872297</td>\n",
       "    </tr>\n",
       "    <tr>\n",
       "      <th>commonarea_mode</th>\n",
       "      <td>214865</td>\n",
       "      <td>69.872297</td>\n",
       "    </tr>\n",
       "    <tr>\n",
       "      <th>nonlivingapartments_avg</th>\n",
       "      <td>213514</td>\n",
       "      <td>69.432963</td>\n",
       "    </tr>\n",
       "    <tr>\n",
       "      <th>nonlivingapartments_medi</th>\n",
       "      <td>213514</td>\n",
       "      <td>69.432963</td>\n",
       "    </tr>\n",
       "    <tr>\n",
       "      <th>nonlivingapartments_mode</th>\n",
       "      <td>213514</td>\n",
       "      <td>69.432963</td>\n",
       "    </tr>\n",
       "    <tr>\n",
       "      <th>fondkapremont_mode</th>\n",
       "      <td>210295</td>\n",
       "      <td>68.386172</td>\n",
       "    </tr>\n",
       "    <tr>\n",
       "      <th>livingapartments_mode</th>\n",
       "      <td>210199</td>\n",
       "      <td>68.354953</td>\n",
       "    </tr>\n",
       "    <tr>\n",
       "      <th>livingapartments_medi</th>\n",
       "      <td>210199</td>\n",
       "      <td>68.354953</td>\n",
       "    </tr>\n",
       "    <tr>\n",
       "      <th>livingapartments_avg</th>\n",
       "      <td>210199</td>\n",
       "      <td>68.354953</td>\n",
       "    </tr>\n",
       "  </tbody>\n",
       "</table>\n",
       "</div>"
      ],
      "text/plain": [
       "                          N_missing  Percent %\n",
       "commonarea_avg               214865  69.872297\n",
       "commonarea_medi              214865  69.872297\n",
       "commonarea_mode              214865  69.872297\n",
       "nonlivingapartments_avg      213514  69.432963\n",
       "nonlivingapartments_medi     213514  69.432963\n",
       "nonlivingapartments_mode     213514  69.432963\n",
       "fondkapremont_mode           210295  68.386172\n",
       "livingapartments_mode        210199  68.354953\n",
       "livingapartments_medi        210199  68.354953\n",
       "livingapartments_avg         210199  68.354953"
      ]
     },
     "execution_count": 12,
     "metadata": {},
     "output_type": "execute_result"
    }
   ],
   "source": [
    "application_train_missing[3:13]"
   ]
  },
  {
   "cell_type": "markdown",
   "metadata": {},
   "source": [
    "# Data exploration"
   ]
  },
  {
   "cell_type": "markdown",
   "metadata": {},
   "source": [
    "### Data balance"
   ]
  },
  {
   "cell_type": "code",
   "execution_count": 13,
   "metadata": {
    "collapsed": true
   },
   "outputs": [],
   "source": [
    "def draw_pie_chart(data):    \n",
    "    labels = data.index\n",
    "    sizes = data['Percent %']\n",
    "    plt.pie(sizes, labels=labels, autopct='%1.1f%%', shadow=False)\n",
    "    fig = plt.gcf()\n",
    "    fig.set_size_inches(8, 8)"
   ]
  },
  {
   "cell_type": "code",
   "execution_count": 14,
   "metadata": {
    "collapsed": true
   },
   "outputs": [],
   "source": [
    "def check_balance(data, feature):\n",
    "    tmp_pd = data[feature]\n",
    "    count = tmp_pd.value_counts()\n",
    "    percent = count / len(tmp_pd) * 100\n",
    "    result = pd.concat([count, percent], axis=1, keys=['count', 'Percent %'])\n",
    "    return result"
   ]
  },
  {
   "cell_type": "code",
   "execution_count": null,
   "metadata": {
    "collapsed": true
   },
   "outputs": [],
   "source": []
  },
  {
   "cell_type": "code",
   "execution_count": 15,
   "metadata": {},
   "outputs": [
    {
     "data": {
      "text/html": [
       "<div>\n",
       "<style>\n",
       "    .dataframe thead tr:only-child th {\n",
       "        text-align: right;\n",
       "    }\n",
       "\n",
       "    .dataframe thead th {\n",
       "        text-align: left;\n",
       "    }\n",
       "\n",
       "    .dataframe tbody tr th {\n",
       "        vertical-align: top;\n",
       "    }\n",
       "</style>\n",
       "<table border=\"1\" class=\"dataframe\">\n",
       "  <thead>\n",
       "    <tr style=\"text-align: right;\">\n",
       "      <th></th>\n",
       "      <th>count</th>\n",
       "      <th>Percent %</th>\n",
       "    </tr>\n",
       "  </thead>\n",
       "  <tbody>\n",
       "    <tr>\n",
       "      <th>0.0</th>\n",
       "      <td>282686</td>\n",
       "      <td>91.927118</td>\n",
       "    </tr>\n",
       "    <tr>\n",
       "      <th>1.0</th>\n",
       "      <td>24825</td>\n",
       "      <td>8.072882</td>\n",
       "    </tr>\n",
       "  </tbody>\n",
       "</table>\n",
       "</div>"
      ],
      "text/plain": [
       "      count  Percent %\n",
       "0.0  282686  91.927118\n",
       "1.0   24825   8.072882"
      ]
     },
     "execution_count": 15,
     "metadata": {},
     "output_type": "execute_result"
    },
    {
     "data": {
      "image/png": "[encoded data removed]",
      "text/plain": [
       "<Figure size 576x576 with 1 Axes>"
      ]
     },
     "metadata": {},
     "output_type": "display_data"
    }
   ],
   "source": [
    "target_balance = check_balance(application_train, 'target')\n",
    "draw_pie_chart(target_balance)\n",
    "target_balance"
   ]
  },
  {
   "cell_type": "markdown",
   "metadata": {},
   "source": [
    "# Compare the distribution for data with different targes"
   ]
  },
  {
   "cell_type": "code",
   "execution_count": 32,
   "metadata": {
    "collapsed": true
   },
   "outputs": [],
   "source": [
    "def compare_percent(data, feature):\n",
    "    df_0 = check_balance(data[data['target'] == 0], feature)\n",
    "    df_1 = check_balance(data[data['target'] == 1], feature)\n",
    "    tmp_data = np.array([df_0['count'].tolist(), df_1['count'][df_0.index].tolist()])\n",
    "   \n",
    "    fig, ax = plt.subplots()\n",
    "    size = 0.3\n",
    "    cmap = plt.get_cmap(\"tab20c\")\n",
    "    outer_colors = cmap(np.arange(3)*4)\n",
    "    inner_colors = cmap(np.array([1, 2, 5, 6, 9, 10]))\n",
    "    tmp_data = tmp_data.T\n",
    "    ax.pie(tmp_data.sum(axis=1), radius=1 - size, colors=outer_colors,\n",
    "           wedgeprops=dict(width=size, edgecolor='w'), labels=df_0.index, autopct='%1.1f%%', \n",
    "           pctdistance=0.5, labeldistance=0.6)\n",
    "\n",
    "    ax.pie(tmp_data.flatten(), radius=1, colors=inner_colors,\n",
    "           wedgeprops=dict(width=size, edgecolor='w'), labels=['0', '1'] * len(tmp_data), \n",
    "           autopct='%1.1f%%', explode = [int(i/2)*0.1 for i in range(len(tmp_data)*2)],\n",
    "           pctdistance=0.8, labeldistance=1.1)\n",
    "\n",
    "    ax.set(aspect=\"equal\", title= 'Compare {} data for different labels'.format(feature))\n",
    "\n",
    "    fig = plt.gcf()\n",
    "    fig.set_size_inches(12, 12)\n",
    "    \n",
    "    return tmp_data"
   ]
  },
  {
   "cell_type": "code",
   "execution_count": 33,
   "metadata": {},
   "outputs": [
    {
     "data": {
      "text/html": [
       "<div>\n",
       "<style>\n",
       "    .dataframe thead tr:only-child th {\n",
       "        text-align: right;\n",
       "    }\n",
       "\n",
       "    .dataframe thead th {\n",
       "        text-align: left;\n",
       "    }\n",
       "\n",
       "    .dataframe tbody tr th {\n",
       "        vertical-align: top;\n",
       "    }\n",
       "</style>\n",
       "<table border=\"1\" class=\"dataframe\">\n",
       "  <thead>\n",
       "    <tr style=\"text-align: right;\">\n",
       "      <th></th>\n",
       "      <th>sk_id_curr</th>\n",
       "      <th>target</th>\n",
       "      <th>name_contract_type</th>\n",
       "      <th>code_gender</th>\n",
       "      <th>flag_own_car</th>\n",
       "      <th>flag_own_realty</th>\n",
       "      <th>cnt_children</th>\n",
       "      <th>amt_income_total</th>\n",
       "      <th>amt_credit</th>\n",
       "      <th>amt_annuity</th>\n",
       "      <th>...</th>\n",
       "      <th>flag_document_21</th>\n",
       "      <th>amt_req_credit_bureau_hour</th>\n",
       "      <th>amt_req_credit_bureau_day</th>\n",
       "      <th>amt_req_credit_bureau_week</th>\n",
       "      <th>amt_req_credit_bureau_mon</th>\n",
       "      <th>amt_req_credit_bureau_qrt</th>\n",
       "      <th>amt_req_credit_bureau_year</th>\n",
       "      <th>sk_id_bureau</th>\n",
       "      <th>months_balance</th>\n",
       "      <th>status</th>\n",
       "    </tr>\n",
       "  </thead>\n",
       "  <tbody>\n",
       "    <tr>\n",
       "      <th>0</th>\n",
       "      <td>100002.0</td>\n",
       "      <td>1.0</td>\n",
       "      <td>Cash loans</td>\n",
       "      <td>M</td>\n",
       "      <td>N</td>\n",
       "      <td>Y</td>\n",
       "      <td>0.0</td>\n",
       "      <td>202500.0</td>\n",
       "      <td>406597.5</td>\n",
       "      <td>24700.5</td>\n",
       "      <td>...</td>\n",
       "      <td>0.0</td>\n",
       "      <td>0.0</td>\n",
       "      <td>0.0</td>\n",
       "      <td>0.0</td>\n",
       "      <td>0.0</td>\n",
       "      <td>0.0</td>\n",
       "      <td>1.0</td>\n",
       "      <td>None</td>\n",
       "      <td>None</td>\n",
       "      <td>None</td>\n",
       "    </tr>\n",
       "    <tr>\n",
       "      <th>1</th>\n",
       "      <td>100003.0</td>\n",
       "      <td>0.0</td>\n",
       "      <td>Cash loans</td>\n",
       "      <td>F</td>\n",
       "      <td>N</td>\n",
       "      <td>N</td>\n",
       "      <td>0.0</td>\n",
       "      <td>270000.0</td>\n",
       "      <td>1293502.5</td>\n",
       "      <td>35698.5</td>\n",
       "      <td>...</td>\n",
       "      <td>0.0</td>\n",
       "      <td>0.0</td>\n",
       "      <td>0.0</td>\n",
       "      <td>0.0</td>\n",
       "      <td>0.0</td>\n",
       "      <td>0.0</td>\n",
       "      <td>0.0</td>\n",
       "      <td>None</td>\n",
       "      <td>None</td>\n",
       "      <td>None</td>\n",
       "    </tr>\n",
       "    <tr>\n",
       "      <th>2</th>\n",
       "      <td>100004.0</td>\n",
       "      <td>0.0</td>\n",
       "      <td>Revolving loans</td>\n",
       "      <td>M</td>\n",
       "      <td>Y</td>\n",
       "      <td>Y</td>\n",
       "      <td>0.0</td>\n",
       "      <td>67500.0</td>\n",
       "      <td>135000.0</td>\n",
       "      <td>6750.0</td>\n",
       "      <td>...</td>\n",
       "      <td>0.0</td>\n",
       "      <td>0.0</td>\n",
       "      <td>0.0</td>\n",
       "      <td>0.0</td>\n",
       "      <td>0.0</td>\n",
       "      <td>0.0</td>\n",
       "      <td>0.0</td>\n",
       "      <td>None</td>\n",
       "      <td>None</td>\n",
       "      <td>None</td>\n",
       "    </tr>\n",
       "    <tr>\n",
       "      <th>3</th>\n",
       "      <td>100006.0</td>\n",
       "      <td>0.0</td>\n",
       "      <td>Cash loans</td>\n",
       "      <td>F</td>\n",
       "      <td>N</td>\n",
       "      <td>Y</td>\n",
       "      <td>0.0</td>\n",
       "      <td>135000.0</td>\n",
       "      <td>312682.5</td>\n",
       "      <td>29686.5</td>\n",
       "      <td>...</td>\n",
       "      <td>0.0</td>\n",
       "      <td>None</td>\n",
       "      <td>None</td>\n",
       "      <td>None</td>\n",
       "      <td>None</td>\n",
       "      <td>None</td>\n",
       "      <td>None</td>\n",
       "      <td>None</td>\n",
       "      <td>None</td>\n",
       "      <td>None</td>\n",
       "    </tr>\n",
       "    <tr>\n",
       "      <th>4</th>\n",
       "      <td>100007.0</td>\n",
       "      <td>0.0</td>\n",
       "      <td>Cash loans</td>\n",
       "      <td>M</td>\n",
       "      <td>N</td>\n",
       "      <td>Y</td>\n",
       "      <td>0.0</td>\n",
       "      <td>121500.0</td>\n",
       "      <td>513000.0</td>\n",
       "      <td>21865.5</td>\n",
       "      <td>...</td>\n",
       "      <td>0.0</td>\n",
       "      <td>0.0</td>\n",
       "      <td>0.0</td>\n",
       "      <td>0.0</td>\n",
       "      <td>0.0</td>\n",
       "      <td>0.0</td>\n",
       "      <td>0.0</td>\n",
       "      <td>None</td>\n",
       "      <td>None</td>\n",
       "      <td>None</td>\n",
       "    </tr>\n",
       "  </tbody>\n",
       "</table>\n",
       "<p>5 rows × 125 columns</p>\n",
       "</div>"
      ],
      "text/plain": [
       "   sk_id_curr  target name_contract_type code_gender flag_own_car  \\\n",
       "0    100002.0     1.0         Cash loans           M            N   \n",
       "1    100003.0     0.0         Cash loans           F            N   \n",
       "2    100004.0     0.0    Revolving loans           M            Y   \n",
       "3    100006.0     0.0         Cash loans           F            N   \n",
       "4    100007.0     0.0         Cash loans           M            N   \n",
       "\n",
       "  flag_own_realty  cnt_children  amt_income_total  amt_credit  amt_annuity  \\\n",
       "0               Y           0.0          202500.0    406597.5      24700.5   \n",
       "1               N           0.0          270000.0   1293502.5      35698.5   \n",
       "2               Y           0.0           67500.0    135000.0       6750.0   \n",
       "3               Y           0.0          135000.0    312682.5      29686.5   \n",
       "4               Y           0.0          121500.0    513000.0      21865.5   \n",
       "\n",
       "    ...    flag_document_21 amt_req_credit_bureau_hour  \\\n",
       "0   ...                 0.0                        0.0   \n",
       "1   ...                 0.0                        0.0   \n",
       "2   ...                 0.0                        0.0   \n",
       "3   ...                 0.0                       None   \n",
       "4   ...                 0.0                        0.0   \n",
       "\n",
       "  amt_req_credit_bureau_day amt_req_credit_bureau_week  \\\n",
       "0                       0.0                        0.0   \n",
       "1                       0.0                        0.0   \n",
       "2                       0.0                        0.0   \n",
       "3                      None                       None   \n",
       "4                       0.0                        0.0   \n",
       "\n",
       "  amt_req_credit_bureau_mon amt_req_credit_bureau_qrt  \\\n",
       "0                       0.0                       0.0   \n",
       "1                       0.0                       0.0   \n",
       "2                       0.0                       0.0   \n",
       "3                      None                      None   \n",
       "4                       0.0                       0.0   \n",
       "\n",
       "   amt_req_credit_bureau_year  sk_id_bureau  months_balance  status  \n",
       "0                         1.0          None            None    None  \n",
       "1                         0.0          None            None    None  \n",
       "2                         0.0          None            None    None  \n",
       "3                        None          None            None    None  \n",
       "4                         0.0          None            None    None  \n",
       "\n",
       "[5 rows x 125 columns]"
      ]
     },
     "execution_count": 33,
     "metadata": {},
     "output_type": "execute_result"
    }
   ],
   "source": [
    "application_train.head()"
   ]
  },
  {
   "cell_type": "code",
   "execution_count": 34,
   "metadata": {},
   "outputs": [
    {
     "data": {
      "image/png": "[encoded data removed]",
      "text/plain": [
       "<Figure size 864x864 with 1 Axes>"
      ]
     },
     "metadata": {},
     "output_type": "display_data"
    }
   ],
   "source": [
    "vals = compare_percent(application_train, 'name_contract_type')"
   ]
  },
  {
   "cell_type": "code",
   "execution_count": 35,
   "metadata": {},
   "outputs": [
    {
     "data": {
      "image/png": "[encoded data removed]",
      "text/plain": [
       "<Figure size 864x864 with 1 Axes>"
      ]
     },
     "metadata": {},
     "output_type": "display_data"
    }
   ],
   "source": [
    "vals = compare_percent(application_train, 'name_education_type')"
   ]
  },
  {
   "cell_type": "code",
   "execution_count": 20,
   "metadata": {
    "collapsed": true
   },
   "outputs": [],
   "source": [
    "def compare_hist(data, feature):\n",
    "    df_0 = check_balance(data[data['target'] == 0], feature)\n",
    "    df_1 = check_balance(data[data['target'] == 1], feature)\n",
    "    tmp_data = np.array([df_0['count'].tolist(), df_1['count'][df_0.index].tolist()])\n",
    "   \n",
    "    fig, ax = plt.subplots()\n",
    "    cmap = plt.get_cmap(\"tab20c\")\n",
    "    outer_colors = cmap(np.arange(3)*4)\n",
    "    inner_colors = cmap(np.array([1, 2, 5, 6, 9, 10]))\n",
    "    tmp_data = tmp_data.T\n",
    "    \n",
    "    plt.hist([d for d in tmp_data], stacked=True, label=['Survived','Dead'])\n",
    "\n",
    "    #ax.set(aspect=\"equal\", title= 'Compare {} data for different labels'.format(feature))\n",
    "\n",
    "    fig = plt.gcf()\n",
    "    fig.set_size_inches(10, 10)\n",
    "    \n",
    "    return tmp_data"
   ]
  }
 ],
 "metadata": {
  "kernelspec": {
   "display_name": "Python 3",
   "language": "python",
   "name": "python3"
  },
  "language_info": {
   "codemirror_mode": {
    "name": "ipython",
    "version": 3
   },
   "file_extension": ".py",
   "mimetype": "text/x-python",
   "name": "python",
   "nbconvert_exporter": "python",
   "pygments_lexer": "ipython3",
   "version": "3.6.3"
  }
 },
 "nbformat": 4,
 "nbformat_minor": 2
}
